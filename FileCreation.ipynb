{
 "cells": [
  {
   "cell_type": "code",
   "execution_count": 1,
   "metadata": {},
   "outputs": [
    {
     "ename": "SyntaxError",
     "evalue": "(unicode error) 'unicodeescape' codec can't decode bytes in position 2-3: truncated \\UXXXXXXXX escape (1980891262.py, line 36)",
     "output_type": "error",
     "traceback": [
      "\u001b[1;36m  Cell \u001b[1;32mIn[1], line 36\u001b[1;36m\u001b[0m\n\u001b[1;33m    directory = 'C:\\Users\\Aviral Tanwar\\Documents\\GitHub\\WNS_Asign\\heooo'\u001b[0m\n\u001b[1;37m                                                                         ^\u001b[0m\n\u001b[1;31mSyntaxError\u001b[0m\u001b[1;31m:\u001b[0m (unicode error) 'unicodeescape' codec can't decode bytes in position 2-3: truncated \\UXXXXXXXX escape\n"
     ]
    }
   ],
   "source": [
    "import os\n",
    "import pandas as pd\n",
    "from datetime import datetime\n",
    "\n",
    "# Function to generate unique file names based on current date and time\n",
    "def generate_file_name():\n",
    "    current_time = datetime.now().strftime(\"%Y-%m-%d_%H-%M-%S\")\n",
    "    return f\"Sales_Data_{current_time}.csv\"\n",
    "\n",
    "# Function to read files and store data in a table\n",
    "def read_files(directory):\n",
    "    # Check if directory exists\n",
    "    if not os.path.exists(directory):\n",
    "        print(f\"Directory '{directory}' does not exist.\")\n",
    "        return\n",
    "    \n",
    "    # Initialize a DataFrame to store the data\n",
    "    table = pd.DataFrame()\n",
    "    \n",
    "    # Get the list of files in the directory\n",
    "    files = [file for file in os.listdir(directory) if file.startswith(\"Sales_Data\")]\n",
    "    \n",
    "    # Loop through each file\n",
    "    for file in files:\n",
    "        print(f\"Processing file: {file}\")\n",
    "        \n",
    "        # Read the file and append its data to the table\n",
    "        file_path = os.path.join(directory, file)\n",
    "        data = pd.read_csv(file_path)\n",
    "        data['File'] = file\n",
    "        table = pd.concat([table, data], ignore_index=True)\n",
    "    \n",
    "    return table\n",
    "\n",
    "# Directory where the files are stored\n",
    "directory = 'C:\\Users\\Aviral Tanwar\\Documents\\GitHub\\WNS_Asign\\heooo'\n",
    "\n",
    "# Read files and store data in a table\n",
    "table = read_files(directory)\n",
    "\n",
    "# Now 'table' contains the combined data from all files\n",
    "print(table)\n"
   ]
  },
  {
   "cell_type": "code",
   "execution_count": null,
   "metadata": {},
   "outputs": [],
   "source": []
  }
 ],
 "metadata": {
  "kernelspec": {
   "display_name": "Python 3",
   "language": "python",
   "name": "python3"
  },
  "language_info": {
   "codemirror_mode": {
    "name": "ipython",
    "version": 3
   },
   "file_extension": ".py",
   "mimetype": "text/x-python",
   "name": "python",
   "nbconvert_exporter": "python",
   "pygments_lexer": "ipython3",
   "version": "3.10.11"
  }
 },
 "nbformat": 4,
 "nbformat_minor": 2
}
