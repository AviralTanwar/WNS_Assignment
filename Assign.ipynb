{
 "cells": [
  {
   "cell_type": "code",
   "execution_count": 27,
   "metadata": {},
   "outputs": [],
   "source": [
    "import pandas as pd\n",
    "import json"
   ]
  },
  {
   "cell_type": "code",
   "execution_count": 37,
   "metadata": {},
   "outputs": [
    {
     "name": "stdout",
     "output_type": "stream",
     "text": [
      "            name                        address  \\\n",
      "0       John Doe    123 Main St, Cityville, USA   \n",
      "1     Jane Smith    456 Elm St, Townsville, USA   \n",
      "2  Alice Johnson   789 Oak St, Villagetown, USA   \n",
      "3      Bob Brown  987 Pine St, Hamletville, USA   \n",
      "\n",
      "                               mobile_numbers date_of_birth  \n",
      "0                [123-456-7890, 987-654-3210]    1990-05-15  \n",
      "1                              [555-555-5555]    1985-10-25  \n",
      "2  [111-222-3333, 444-555-6666, 777-888-9999]    1978-03-12  \n",
      "3                                          []    1995-12-03  \n"
     ]
    }
   ],
   "source": [
    "with open(\"EmoplyeeDetails.txt\", \"r\") as file:\n",
    "    data = json.load(file)\n",
    "\n",
    "df = pd.DataFrame(data[\"people\"])\n",
    "\n",
    "print(df)\n"
   ]
  }
 ],
 "metadata": {
  "kernelspec": {
   "display_name": "Python 3",
   "language": "python",
   "name": "python3"
  },
  "language_info": {
   "codemirror_mode": {
    "name": "ipython",
    "version": 3
   },
   "file_extension": ".py",
   "mimetype": "text/x-python",
   "name": "python",
   "nbconvert_exporter": "python",
   "pygments_lexer": "ipython3",
   "version": "3.10.11"
  }
 },
 "nbformat": 4,
 "nbformat_minor": 2
}
