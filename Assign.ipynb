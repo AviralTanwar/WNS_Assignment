{
 "cells": [
  {
   "cell_type": "code",
   "execution_count": 1,
   "metadata": {},
   "outputs": [],
   "source": [
    "import pandas as pd"
   ]
  },
  {
   "cell_type": "code",
   "execution_count": 2,
   "metadata": {},
   "outputs": [],
   "source": [
    "# Open the file\n",
    "with open('EmoplyeeDetails.txt', 'r') as file:\\\n",
    "    content = file.readlines()"
   ]
  },
  {
   "cell_type": "code",
   "execution_count": 3,
   "metadata": {},
   "outputs": [
    {
     "name": "stdout",
     "output_type": "stream",
     "text": [
      "['{\\n', '  \"people\": [\\n', '    {\\n', '      \"name\": \"John Doe\",\\n', '      \"address\": \"123 Main St, Cityville, USA\",\\n', '      \"mobile_numbers\": [\"123-456-7890\", \"987-654-3210\"],\\n', '      \"date_of_birth\": \"1990-05-15\"\\n', '    },\\n', '    {\\n', '      \"name\": \"Jane Smith\",\\n', '      \"address\": \"456 Elm St, Townsville, USA\",\\n', '      \"mobile_numbers\": [\"555-555-5555\"],\\n', '      \"date_of_birth\": \"1985-10-25\"\\n', '    },\\n', '    {\\n', '      \"name\": \"Alice Johnson\",\\n', '      \"address\": \"789 Oak St, Villagetown, USA\",\\n', '      \"mobile_numbers\": [\"111-222-3333\", \"444-555-6666\", \"777-888-9999\"],\\n', '      \"date_of_birth\": \"1978-03-12\"\\n', '    },\\n', '    {\\n', '      \"name\": \"Bob Brown\",\\n', '      \"address\": \"987 Pine St, Hamletville, USA\",\\n', '      \"mobile_numbers\": [],\\n', '      \"date_of_birth\": \"1995-12-03\"\\n', '    }\\n', '  ]\\n', '}\\n']\n"
     ]
    }
   ],
   "source": [
    "print(content)"
   ]
  },
  {
   "cell_type": "code",
   "execution_count": 4,
   "metadata": {},
   "outputs": [],
   "source": [
    "# Parse the content and store it in a list of lists\n",
    "table_data = [line.strip().split('\\t') for line in content]\n",
    "\n",
    "# Convert the list of lists into a DataFrame\n",
    "df = pd.DataFrame(table_data)"
   ]
  },
  {
   "cell_type": "code",
   "execution_count": 5,
   "metadata": {},
   "outputs": [
    {
     "name": "stdout",
     "output_type": "stream",
     "text": [
      "                                                    0\n",
      "0                                                   {\n",
      "1                                         \"people\": [\n",
      "2                                                   {\n",
      "3                                 \"name\": \"John Doe\",\n",
      "4           \"address\": \"123 Main St, Cityville, USA\",\n",
      "5   \"mobile_numbers\": [\"123-456-7890\", \"987-654-32...\n",
      "6                       \"date_of_birth\": \"1990-05-15\"\n",
      "7                                                  },\n",
      "8                                                   {\n",
      "9                               \"name\": \"Jane Smith\",\n",
      "10          \"address\": \"456 Elm St, Townsville, USA\",\n",
      "11                \"mobile_numbers\": [\"555-555-5555\"],\n",
      "12                      \"date_of_birth\": \"1985-10-25\"\n",
      "13                                                 },\n",
      "14                                                  {\n",
      "15                           \"name\": \"Alice Johnson\",\n",
      "16         \"address\": \"789 Oak St, Villagetown, USA\",\n",
      "17  \"mobile_numbers\": [\"111-222-3333\", \"444-555-66...\n",
      "18                      \"date_of_birth\": \"1978-03-12\"\n",
      "19                                                 },\n",
      "20                                                  {\n",
      "21                               \"name\": \"Bob Brown\",\n",
      "22        \"address\": \"987 Pine St, Hamletville, USA\",\n",
      "23                              \"mobile_numbers\": [],\n",
      "24                      \"date_of_birth\": \"1995-12-03\"\n",
      "25                                                  }\n",
      "26                                                  ]\n",
      "27                                                  }\n"
     ]
    }
   ],
   "source": [
    "print(df)\n"
   ]
  },
  {
   "cell_type": "code",
   "execution_count": null,
   "metadata": {},
   "outputs": [],
   "source": []
  }
 ],
 "metadata": {
  "kernelspec": {
   "display_name": "Python 3",
   "language": "python",
   "name": "python3"
  },
  "language_info": {
   "codemirror_mode": {
    "name": "ipython",
    "version": 3
   },
   "file_extension": ".py",
   "mimetype": "text/x-python",
   "name": "python",
   "nbconvert_exporter": "python",
   "pygments_lexer": "ipython3",
   "version": "3.10.11"
  }
 },
 "nbformat": 4,
 "nbformat_minor": 2
}
